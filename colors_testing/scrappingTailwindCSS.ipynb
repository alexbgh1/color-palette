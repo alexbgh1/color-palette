{
 "cells": [
  {
   "cell_type": "markdown",
   "metadata": {},
   "source": [
    "# Scrapping Tailwindcss\n",
    "\n",
    "Scrapping simple de la página de [Tailwindcss](https://tailwindcss.com/docs/customizing-colors) para obtener los colores y sus gradientes. Se hará la extracción del \"nombre\" del set de colores, el \"tramo\" y el \"color\" en formato hexadecimal.\n",
    "\n",
    "## Librerías necesarias\n",
    "\n",
    "```python\n",
    "import requests\n",
    "from bs4 import BeautifulSoup\n",
    "import json\n",
    "```\n",
    "\n",
    "## Resultado esperado\n",
    "\n",
    "```json\n",
    "[\n",
    "  {\n",
    "    \"name\": \"Slate\",\n",
    "    \"data\": [\n",
    "      { \"tramo\": \"50\", \"color\": \"#f8fafc\" },\n",
    "      { \"tramo\": \"100\", \"color\": \"#f1f5f9\" },\n",
    "      { \"tramo\": \"200\", \"color\": \"#e2e8f0\" },\n",
    "      { \"tramo\": \"300\", \"color\": \"#cbd5e1\" },\n",
    "      { \"tramo\": \"400\", \"color\": \"#94a3b8\" },\n",
    "      { \"tramo\": \"500\", \"color\": \"#64748b\" },\n",
    "      { \"tramo\": \"600\", \"color\": \"#475569\" },\n",
    "      { \"tramo\": \"700\", \"color\": \"#334155\" },\n",
    "      { \"tramo\": \"800\", \"color\": \"#1e293b\" },\n",
    "      { \"tramo\": \"900\", \"color\": \"#0f172a\" },\n",
    "      { \"tramo\": \"950\", \"color\": \"#020617\" }\n",
    "    ]\n",
    "  },\n",
    "  // ...\n",
    "]\n",
    "```"
   ]
  },
  {
   "cell_type": "markdown",
   "metadata": {},
   "source": [
    "### Importamos las librerías necesarias"
   ]
  },
  {
   "cell_type": "code",
   "execution_count": 1,
   "metadata": {},
   "outputs": [],
   "source": [
    "# IMPORT Libraries\n",
    "import requests # to get the html source code of the page\n",
    "import  bs4 # to parse the html source code\n",
    "import json # to convert the data into json format\n",
    "URL = 'https://tailwindcss.com/docs/customizing-colors'\n",
    "\n",
    "# output file: path to save the json file\n",
    "OUTPUT_FILE = 'data/data.json'"
   ]
  },
  {
   "cell_type": "markdown",
   "metadata": {},
   "source": [
    "### Extrayendo los Tags que contengan estas clases\n",
    "```js\n",
    "====== General Arrays ======\n",
    "COLORS INFO -----    \"grid mt-3 grid-cols-1 sm:grid-cols-11 gap-y-3 gap-x-2 sm:mt-2 2xl:mt-0\"\n",
    "NAMES       -----    \"text-sm font-semibold text-slate-900 dark:text-slate-200 2xl:col-end-1 2xl:pt-2.5\"\n",
    "\n",
    "=== For each tramo/color ===\n",
    "-- COLORS   -----    \"w-6 font-medium text-xs text-slate-900 2xl:w-full dark:text-white\"\n",
    "-- TRAMOS   -----    \"text-slate-500 text-xs font-mono lowercase dark:text-slate-400 sm:text-[0.625rem] md:text-xs lg:text-[0.625rem] 2xl:text-xs\"\n",
    "```"
   ]
  },
  {
   "cell_type": "code",
   "execution_count": 2,
   "metadata": {},
   "outputs": [],
   "source": [
    "# ====== General Arrays ======\n",
    "search_array_colors = \"grid mt-3 grid-cols-1 sm:grid-cols-11 gap-y-3 gap-x-2 sm:mt-2 2xl:mt-0\"\n",
    "search_array_names = \"text-sm font-semibold text-slate-900 dark:text-slate-200 2xl:col-end-1 2xl:pt-2.5\"\n",
    "\n",
    "# === For each tramo/color ===\n",
    "search_array_colors_info_tramos = \"w-6 font-medium text-xs text-slate-900 2xl:w-full dark:text-white\"\n",
    "search_array_colors_info_color = \"text-slate-500 text-xs font-mono lowercase dark:text-slate-400 sm:text-[0.625rem] md:text-xs lg:text-[0.625rem] 2xl:text-xs\""
   ]
  },
  {
   "cell_type": "markdown",
   "metadata": {},
   "source": [
    "### Extraemos y parseamos los datos"
   ]
  },
  {
   "cell_type": "code",
   "execution_count": 3,
   "metadata": {},
   "outputs": [],
   "source": [
    "response = requests.get(URL)\n",
    "soup = bs4.BeautifulSoup(response.text,'html.parser')\n",
    "\n",
    "div_color_set_information = soup.find_all('div', class_ = search_array_colors)\n",
    "div_color_set_names = soup.find_all('div', class_ = search_array_names)"
   ]
  },
  {
   "cell_type": "code",
   "execution_count": 4,
   "metadata": {},
   "outputs": [
    {
     "data": {
      "text/plain": [
       "['Slate', 'Gray', 'Zinc', 'Neutral', 'Stone']"
      ]
     },
     "execution_count": 4,
     "metadata": {},
     "output_type": "execute_result"
    }
   ],
   "source": [
    "color_set_names = [name.text for name in div_color_set_names]\n",
    "color_set_names [:5]"
   ]
  },
  {
   "cell_type": "code",
   "execution_count": 5,
   "metadata": {},
   "outputs": [],
   "source": [
    "# data will contain \n",
    "# \n",
    "# [{\n",
    "#     \"name\": \"Slate\",\n",
    "#     \"data\": [\n",
    "#       { \"tramo\": \"50\", \"color\": \"#f8fafc\" },\n",
    "#       // ...    \n",
    "#  ]}\n",
    "#  ]\n",
    "data = []"
   ]
  },
  {
   "cell_type": "markdown",
   "metadata": {},
   "source": [
    "### Extraemos información para cada color"
   ]
  },
  {
   "cell_type": "code",
   "execution_count": 6,
   "metadata": {},
   "outputs": [],
   "source": [
    "# Searching for the \"tramo\" and \"color\" for each color set\n",
    "\n",
    "each_color_information = []\n",
    "for i in range(len(div_color_set_information)):\n",
    "    name = color_set_names[i] # ex: \"Slate\"\n",
    "    div_info_color = div_color_set_information[i].find_all('div',class_=search_array_colors_info_color) # ex: [<div>...</div>, <div>...</div>, ...]\n",
    "\n",
    "    for index, current_tramo in enumerate(div_color_set_information[i].find_all('div',class_=search_array_colors_info_tramos)):\n",
    "        # Get \"tramo\" and \"color\" for each color set\n",
    "        tramo = current_tramo.text # ex: \"50\"\n",
    "        color = div_info_color[index].text # ex: \"#f8fafc\"\n",
    "        each_color_information.append({\n",
    "            'tramo': tramo,\n",
    "            'color': color\n",
    "        })\n",
    "    \n",
    "    # Append the data to the main array\n",
    "    data.append({\n",
    "        'name': name,\n",
    "        'data': each_color_information\n",
    "    })\n",
    "\n",
    "    # Reset the array for the next color set\n",
    "    each_color_information = []\n",
    "\n",
    "# Save as .json\n",
    "# Replace the file if it already exists\n",
    "\n",
    "with open(OUTPUT_FILE, 'w') as outfile:\n",
    "    json.dump(data, outfile)\n",
    "\n",
    "data = []"
   ]
  }
 ],
 "metadata": {
  "kernelspec": {
   "display_name": "info147",
   "language": "python",
   "name": "python3"
  },
  "language_info": {
   "codemirror_mode": {
    "name": "ipython",
    "version": 3
   },
   "file_extension": ".py",
   "mimetype": "text/x-python",
   "name": "python",
   "nbconvert_exporter": "python",
   "pygments_lexer": "ipython3",
   "version": "3.10.0"
  },
  "orig_nbformat": 4
 },
 "nbformat": 4,
 "nbformat_minor": 2
}
